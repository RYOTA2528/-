{
  "nbformat": 4,
  "nbformat_minor": 0,
  "metadata": {
    "colab": {
      "name": "PythonPractice1.ipynb",
      "provenance": [],
      "authorship_tag": "ABX9TyN6+RG/KwS+nWbd+dhkA4br",
      "include_colab_link": true
    },
    "kernelspec": {
      "name": "python3",
      "display_name": "Python 3"
    },
    "language_info": {
      "name": "python"
    }
  },
  "cells": [
    {
      "cell_type": "markdown",
      "metadata": {
        "id": "view-in-github",
        "colab_type": "text"
      },
      "source": [
        "<a href=\"https://colab.research.google.com/github/RYOTA2528/-Start-3-4/blob/main/PythonPractice1.ipynb\" target=\"_parent\"><img src=\"https://colab.research.google.com/assets/colab-badge.svg\" alt=\"Open In Colab\"/></a>"
      ]
    },
    {
      "cell_type": "markdown",
      "source": [
        "**【Python学習　初級編】**\n",
        "\n",
        "\n",
        "1. GoogleColaboratoryについての基礎学習,Pythonの概要理解,人工知能の概要理解,ニュートラルネットワーク概要理解\n",
        "2. GoogleColaboratory上でのコード記載方法・復習（マークダウン・変数・四則演算・Boot値と比較演算子・論理演算子）\n",
        "\n",
        "\n"
      ],
      "metadata": {
        "id": "cDVscAXVovHu"
      }
    },
    {
      "cell_type": "code",
      "execution_count": 1,
      "metadata": {
        "colab": {
          "base_uri": "https://localhost:8080/"
        },
        "id": "tKPumb5vooGF",
        "outputId": "e746c8ed-ead8-4b4b-b8a0-3aff6655d61e"
      },
      "outputs": [
        {
          "output_type": "stream",
          "name": "stdout",
          "text": [
            "True\n",
            "True\n",
            "False\n"
          ]
        }
      ],
      "source": [
        "# コード練習用（復習用）\n",
        "\"Bool値と比較演算子の復習\"\n",
        "a = 3\n",
        "b = 4\n",
        "c = 5\n",
        "\n",
        "d = a < b and b < c #どちらも大きければTrue\n",
        "print(d)\n",
        "\n",
        "e = a < b or b > c #どちらかが小さければTrue\n",
        "print(e)\n",
        "f = not a < b # bのほうが大きい場合、TrueではなくFalseを返す。\n",
        "print(f)"
      ]
    },
    {
      "cell_type": "code",
      "source": [
        "# コード練習用（復習用）\n",
        "\"四則演算（注意すべき箇所）\"\n",
        "a = 7\n",
        "b = 3\n",
        "\n",
        "g = a//b #整数部分で表示される。\n",
        "print(g)\n",
        "\n",
        "h = a % b #あまり部分が表示される\n",
        "print(h)"
      ],
      "metadata": {
        "colab": {
          "base_uri": "https://localhost:8080/"
        },
        "id": "gdruJvSJqKNo",
        "outputId": "0525b8f1-95f7-40cc-fc7e-7afd24c6cbd9"
      },
      "execution_count": 2,
      "outputs": [
        {
          "output_type": "stream",
          "name": "stdout",
          "text": [
            "2\n",
            "1\n"
          ]
        }
      ]
    },
    {
      "cell_type": "code",
      "source": [
        "# コード練習用（復習用）\n",
        "\"論理演算子\"\n",
        "a = 3\n",
        "b = 4\n",
        "c = 5\n",
        "\n",
        "d = a < b and b < c #どちらも大きければTrue\n",
        "print(d)\n",
        "\n",
        "e = a < b or b > c #どちらかが小さければTrue\n",
        "print(e)\n",
        "f = not a < b # bのほうが大きい場合、TrueではなくFalseを返す。\n",
        "print(f)"
      ],
      "metadata": {
        "colab": {
          "base_uri": "https://localhost:8080/"
        },
        "id": "_DLcLR_Hrw-L",
        "outputId": "328c5bbb-b3e3-4fe5-863e-0b69d8377378"
      },
      "execution_count": 5,
      "outputs": [
        {
          "output_type": "stream",
          "name": "stdout",
          "text": [
            "True\n",
            "True\n",
            "False\n"
          ]
        }
      ]
    },
    {
      "cell_type": "code",
      "source": [
        "# コード練習用（復習用）\n",
        "\"文字列どうしの組み合わせ方\"\n",
        "cat_name = \"Tama\"\n",
        "cat_old = \"10歳\"\n",
        "print(cat_name + \"は\" + cat_old  +\"です。\")"
      ],
      "metadata": {
        "colab": {
          "base_uri": "https://localhost:8080/"
        },
        "id": "FKpxcbXnqiYT",
        "outputId": "b7124276-e1ea-4355-da9b-212368bb166f"
      },
      "execution_count": 3,
      "outputs": [
        {
          "output_type": "stream",
          "name": "stdout",
          "text": [
            "Tamaは10歳です。\n"
          ]
        }
      ]
    },
    {
      "cell_type": "markdown",
      "source": [
        ""
      ],
      "metadata": {
        "id": "uMr9sRlmouex"
      }
    },
    {
      "cell_type": "code",
      "source": [
        "#Pythoコード\n",
        "\"Pythonの基本 print　で出力\"\n",
        "#　文字列の挿入練習\n",
        "d = \"Pythonの練習中です\"\n",
        "print(d)\n"
      ],
      "metadata": {
        "colab": {
          "base_uri": "https://localhost:8080/"
        },
        "id": "klv4_sLnqvbe",
        "outputId": "437d23c3-f29c-4f61-8de1-f8044b826427"
      },
      "execution_count": 4,
      "outputs": [
        {
          "output_type": "stream",
          "name": "stdout",
          "text": [
            "Pythonの練習中です\n"
          ]
        }
      ]
    }
  ]
}